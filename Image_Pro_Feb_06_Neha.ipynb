{
 "cells": [
  {
   "cell_type": "code",
   "execution_count": 1,
   "id": "3fed4123-ef66-429b-b852-e88cff6126f9",
   "metadata": {},
   "outputs": [
    {
     "name": "stdout",
     "output_type": "stream",
     "text": [
      "Defaulting to user installation because normal site-packages is not writeable\n",
      "Requirement already satisfied: opencv-python in c:\\users\\iceem\\appdata\\roaming\\python\\python312\\site-packages (4.11.0.86)\n",
      "Requirement already satisfied: numpy>=1.21.2 in c:\\programdata\\anaconda3\\lib\\site-packages (from opencv-python) (1.26.4)\n",
      "Note: you may need to restart the kernel to use updated packages.\n"
     ]
    }
   ],
   "source": [
    "pip install opencv-python"
   ]
  },
  {
   "cell_type": "code",
   "execution_count": 3,
   "id": "de85db6c-32fe-4436-a522-80ff947623d5",
   "metadata": {},
   "outputs": [],
   "source": [
    "import numpy as np\n",
    "import matplotlib.pyplot as plt\n",
    "import pandas as pd\n",
    "import cv2\n"
   ]
  },
  {
   "cell_type": "code",
   "execution_count": 5,
   "id": "64bd0b05-79ac-4b30-8dc6-32f3436aa096",
   "metadata": {},
   "outputs": [],
   "source": [
    "img = cv2.imread(r\"C:\\Neha\\bappa.jpg\")"
   ]
  },
  {
   "cell_type": "code",
   "execution_count": 7,
   "id": "7c57f7d8-5879-4f5e-8fbd-43f69d448c59",
   "metadata": {},
   "outputs": [
    {
     "name": "stdout",
     "output_type": "stream",
     "text": [
      "<class 'numpy.ndarray'>\n"
     ]
    }
   ],
   "source": [
    "print(type(img))"
   ]
  },
  {
   "cell_type": "code",
   "execution_count": 9,
   "id": "848920e9-9c6e-4062-811b-5143497e1645",
   "metadata": {},
   "outputs": [],
   "source": [
    "cv2.imshow(\"bappa.jpg\",img)\n",
    "cv2.waitKey(0)\n",
    "cv2.destroyAllWindows()"
   ]
  },
  {
   "cell_type": "code",
   "execution_count": 10,
   "id": "60e7586f-03cc-466e-a61d-bbb47794eee4",
   "metadata": {},
   "outputs": [
    {
     "name": "stdout",
     "output_type": "stream",
     "text": [
      "(338, 600, 3)\n"
     ]
    }
   ],
   "source": [
    "print(img.shape)"
   ]
  },
  {
   "cell_type": "code",
   "execution_count": 11,
   "id": "dd76c59a-7153-4d23-bd3c-463c3b2507bf",
   "metadata": {},
   "outputs": [],
   "source": [
    "img_resize = cv2.resize(img,(500,300))"
   ]
  },
  {
   "cell_type": "code",
   "execution_count": 12,
   "id": "2bcddfc5-c947-46c2-abf7-74c4221d97cb",
   "metadata": {},
   "outputs": [],
   "source": [
    "cv2.imshow(\"bappa\",img_resize)\n",
    "cv2.waitKey(0)\n",
    "cv2.destroyAllWindows()"
   ]
  },
  {
   "cell_type": "code",
   "execution_count": 13,
   "id": "3687a630-ead0-427e-9cb4-10f20ac0be78",
   "metadata": {},
   "outputs": [
    {
     "name": "stdout",
     "output_type": "stream",
     "text": [
      "(300, 500, 3)\n"
     ]
    }
   ],
   "source": [
    "print(img_resize.shape)"
   ]
  },
  {
   "cell_type": "code",
   "execution_count": 14,
   "id": "a7da95e0-ad06-4788-8976-77084f858d15",
   "metadata": {},
   "outputs": [],
   "source": [
    "img_flip = cv2.flip(img,1)"
   ]
  },
  {
   "cell_type": "code",
   "execution_count": 15,
   "id": "d20c9e75-0957-4893-a20e-022c9149f7a5",
   "metadata": {},
   "outputs": [],
   "source": [
    "cv2.imshow(\"flipped Image\",img_flip)\n",
    "cv2.waitKey(0)\n",
    "cv2.destroyAllWindows()"
   ]
  },
  {
   "cell_type": "code",
   "execution_count": 16,
   "id": "4803eb27-117c-49bd-8a24-0f950e26750a",
   "metadata": {},
   "outputs": [],
   "source": [
    "img_crop = img[100:300,200:500]"
   ]
  },
  {
   "cell_type": "code",
   "execution_count": 17,
   "id": "92cf04c8-3eb1-4271-ade2-97e7c564b6b0",
   "metadata": {},
   "outputs": [],
   "source": [
    "cv2.imshow(\"Cropped Image\",img_crop)\n",
    "cv2.waitKey(0)\n",
    "cv2.destroyAllWindows()\n"
   ]
  },
  {
   "cell_type": "code",
   "execution_count": 18,
   "id": "0612389a-4654-4447-912c-9a7f2b97cca0",
   "metadata": {},
   "outputs": [
    {
     "data": {
      "text/plain": [
       "True"
      ]
     },
     "execution_count": 18,
     "metadata": {},
     "output_type": "execute_result"
    }
   ],
   "source": [
    "cv2.imwrite(r\"croppedImg16.jpg\",img_crop)"
   ]
  },
  {
   "cell_type": "code",
   "execution_count": null,
   "id": "a30297dd-6866-4272-bfb3-18139ea87d7e",
   "metadata": {},
   "outputs": [],
   "source": []
  }
 ],
 "metadata": {
  "kernelspec": {
   "display_name": "Python [conda env:base] *",
   "language": "python",
   "name": "conda-base-py"
  },
  "language_info": {
   "codemirror_mode": {
    "name": "ipython",
    "version": 3
   },
   "file_extension": ".py",
   "mimetype": "text/x-python",
   "name": "python",
   "nbconvert_exporter": "python",
   "pygments_lexer": "ipython3",
   "version": "3.12.7"
  }
 },
 "nbformat": 4,
 "nbformat_minor": 5
}
